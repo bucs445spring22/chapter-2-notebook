{
 "cells": [
  {
   "cell_type": "markdown",
   "metadata": {},
   "source": [
    "# Software Engineering\n",
    "\n",
    "## Chapter *2*\n",
    "\n",
    "## *Tools and Platforms*\n",
    "### Chapter Due Date: *Friday, Feb, 18th*\n",
    "### Last Updated: *today*\n"
   ]
  },
  {
   "cell_type": "markdown",
   "metadata": {},
   "source": [
    "**Learning Objective**: *Learn some compter science concepts*\n"
   ]
  },
  {
   "cell_type": "markdown",
   "metadata": {},
   "source": [
    "#### Software Engineering Rule of the Day\n",
    "\n",
    "Each class we will have a new software engineering principle. They will be added to the list of guidelines and specifications in the following Github Repo.  \n",
    "[Software Engineering Guidelines](https://github.com/bucs445spring22/Software-Engineering-Guidelines)  \n",
    "\n",
    "*We will grade a portion of your final project using the above guidelines when we grade your team's final project.*\n",
    "\n",
    "**Rule #3:** ***\"Try to make your development environment as close to your production environment as possible (without giving away secrets)\"***  \n",
    "\n",
    "Designing the running environment is as important as  designing project itself. Many projects require as much time setting up the running environment as they do for development."
   ]
  },
  {
   "cell_type": "markdown",
   "metadata": {},
   "source": [
    "#### Design Pattern of the Day\n",
    "\n",
    "**Builder**\n",
    "\n",
    "The Builder design pattern solves problems like:[2]\n",
    "\n",
    "* How can a class (the same construction process) create different representations of a complex object?\n",
    "* How can a class that includes creating a complex object be simplified?"
   ]
  },
  {
   "cell_type": "code",
   "execution_count": 4,
   "metadata": {},
   "outputs": [
    {
     "ename": "AttributeError",
     "evalue": "'House' object has no attribute 'setBody'",
     "output_type": "error",
     "traceback": [
      "\u001b[0;31m---------------------------------------------------------------------------\u001b[0m",
      "\u001b[0;31mAttributeError\u001b[0m                            Traceback (most recent call last)",
      "\u001b[0;32m/var/folders/9w/hmd01_xj44d34jp86bj192nr0000gn/T/ipykernel_3509/389415939.py\u001b[0m in \u001b[0;36m<module>\u001b[0;34m\u001b[0m\n\u001b[1;32m     52\u001b[0m \u001b[0;34m\u001b[0m\u001b[0m\n\u001b[1;32m     53\u001b[0m \u001b[0;32mif\u001b[0m \u001b[0m__name__\u001b[0m \u001b[0;34m==\u001b[0m \u001b[0;34m\"__main__\"\u001b[0m\u001b[0;34m:\u001b[0m\u001b[0;34m\u001b[0m\u001b[0;34m\u001b[0m\u001b[0m\n\u001b[0;32m---> 54\u001b[0;31m    \u001b[0mmain\u001b[0m\u001b[0;34m(\u001b[0m\u001b[0;34m)\u001b[0m\u001b[0;34m\u001b[0m\u001b[0;34m\u001b[0m\u001b[0m\n\u001b[0m",
      "\u001b[0;32m/var/folders/9w/hmd01_xj44d34jp86bj192nr0000gn/T/ipykernel_3509/389415939.py\u001b[0m in \u001b[0;36mmain\u001b[0;34m()\u001b[0m\n\u001b[1;32m     49\u001b[0m \u001b[0;34m\u001b[0m\u001b[0m\n\u001b[1;32m     50\u001b[0m    \u001b[0mdirector\u001b[0m\u001b[0;34m.\u001b[0m\u001b[0msetBuilder\u001b[0m\u001b[0;34m(\u001b[0m\u001b[0mfarmBuilder\u001b[0m\u001b[0;34m)\u001b[0m\u001b[0;34m\u001b[0m\u001b[0;34m\u001b[0m\u001b[0m\n\u001b[0;32m---> 51\u001b[0;31m    \u001b[0mhome\u001b[0m \u001b[0;34m=\u001b[0m \u001b[0mdirector\u001b[0m\u001b[0;34m.\u001b[0m\u001b[0mgetHouse\u001b[0m\u001b[0;34m(\u001b[0m\u001b[0;34m)\u001b[0m\u001b[0;34m\u001b[0m\u001b[0;34m\u001b[0m\u001b[0m\n\u001b[0m\u001b[1;32m     52\u001b[0m \u001b[0;34m\u001b[0m\u001b[0m\n\u001b[1;32m     53\u001b[0m \u001b[0;32mif\u001b[0m \u001b[0m__name__\u001b[0m \u001b[0;34m==\u001b[0m \u001b[0;34m\"__main__\"\u001b[0m\u001b[0;34m:\u001b[0m\u001b[0;34m\u001b[0m\u001b[0;34m\u001b[0m\u001b[0m\n",
      "\u001b[0;32m/var/folders/9w/hmd01_xj44d34jp86bj192nr0000gn/T/ipykernel_3509/389415939.py\u001b[0m in \u001b[0;36mgetHouse\u001b[0;34m(self)\u001b[0m\n\u001b[1;32m     10\u001b[0m       \u001b[0;31m# First goes the body\u001b[0m\u001b[0;34m\u001b[0m\u001b[0;34m\u001b[0m\u001b[0m\n\u001b[1;32m     11\u001b[0m       \u001b[0mmaterials\u001b[0m \u001b[0;34m=\u001b[0m \u001b[0mself\u001b[0m\u001b[0;34m.\u001b[0m\u001b[0m__builder\u001b[0m\u001b[0;34m.\u001b[0m\u001b[0mgetMaterials\u001b[0m\u001b[0;34m(\u001b[0m\u001b[0;34m)\u001b[0m\u001b[0;34m\u001b[0m\u001b[0;34m\u001b[0m\u001b[0m\n\u001b[0;32m---> 12\u001b[0;31m       \u001b[0mhome\u001b[0m\u001b[0;34m.\u001b[0m\u001b[0msetBody\u001b[0m\u001b[0;34m(\u001b[0m\u001b[0mmaterials\u001b[0m\u001b[0;34m)\u001b[0m\u001b[0;34m\u001b[0m\u001b[0;34m\u001b[0m\u001b[0m\n\u001b[0m\u001b[1;32m     13\u001b[0m \u001b[0;34m\u001b[0m\u001b[0m\n\u001b[1;32m     14\u001b[0m       \u001b[0;31m# Then engine\u001b[0m\u001b[0;34m\u001b[0m\u001b[0;34m\u001b[0m\u001b[0m\n",
      "\u001b[0;31mAttributeError\u001b[0m: 'House' object has no attribute 'setBody'"
     ]
    }
   ],
   "source": [
    "class Director:\n",
    "   __builder = None\n",
    "   \n",
    "   def setBuilder(self, builder):\n",
    "      self.__builder = builder\n",
    "   \n",
    "   def getHouse(self):\n",
    "      home = House()\n",
    "      \n",
    "      # First goes the body\n",
    "      materials = self.__builder.getMaterials()\n",
    "      home.setBody(materials)\n",
    "      \n",
    "      # Then engine\n",
    "      location = self.__builder.getLocations()\n",
    "      home.setLocation(location)\n",
    "      \n",
    "      return   home\n",
    "\n",
    "# The whole product\n",
    "class House:\n",
    "   def __init__(self):\n",
    "      self.__materials = list()\n",
    "      self.__location = None\n",
    "\n",
    "   def setMaterials(self, m):\n",
    "      self.__materials = m\n",
    "\n",
    "   def setLocation(self, l):\n",
    "      self.__location.append(l)\n",
    "\n",
    "class Builder:\n",
    "      def getMaterials(self): pass\n",
    "      def getLocation(self): pass\n",
    "      def getBody(self): pass\n",
    "\n",
    "class FarmBuilder(Builder):\n",
    "   \n",
    "   def getMaterials(self):\n",
    "      pass\n",
    "   \n",
    "   def getlocation(self):\n",
    "      pass\n",
    "\n",
    "def main():\n",
    "   farmBuilder = FarmBuilder() # initializing the class\n",
    "   \n",
    "   director = Director()\n",
    "   \n",
    "   director.setBuilder(farmBuilder)\n",
    "   home = director.getHouse()\n",
    "\n",
    "if __name__ == \"__main__\":\n",
    "   main()"
   ]
  },
  {
   "cell_type": "markdown",
   "metadata": {},
   "source": [
    "### Part 1\n",
    "#### *Docker*"
   ]
  },
  {
   "cell_type": "markdown",
   "metadata": {},
   "source": [
    "Let's start a commune\n",
    "* Programs are like hippies\n",
    "\n",
    "Even environmental tools run into issues\n",
    "\n",
    "**Docker**\n",
    "\n",
    "Tool to build unique containers that function as 'sealed' environments for your application\n",
    "\n",
    "* A Container in not a VM\n",
    "    * A VM virtualizes hardware for OS\n",
    "    * Container virtualizes OS Kernel \n",
    "\n",
    "*** A Container runs a single process ***\n",
    "\n",
    "As Developers, why do we care about the environment? Systems admin's job?\n",
    "    match development to production\n",
    "\n",
    "### Image\n",
    "* The box of items and instructions to create the dwelling\n",
    "* Blueprint for an environment instance.\n",
    "    * like classes for containers\n",
    "\n",
    "### Container\n",
    "* The assembled and lived in dwelling\n",
    "* An instance of a Image\n",
    "\n",
    "### Dockerhub\n",
    "* The evil corporation we buy our supplies from\n",
    "* Like github for Docker images\n",
    "    * also allows you to push and distribute images\n",
    "\n",
    "*** BE CAREFUL WITH ANONYMOUS IMAGES ***\n",
    "\n"
   ]
  },
  {
   "cell_type": "markdown",
   "metadata": {},
   "source": [
    "### Dockerfiles\n",
    "\n",
    "* Most dockerfiles start with a parent image\n",
    "\n",
    "#left justified, commands are all caps by convention\n",
    "COMMAND args\n",
    "\n",
    "Order your dockerfile commands in order of least likely to most likely to change where possible\n",
    "\n",
    "```\n",
    "FROM python:3.0-alpine\n",
    "\n",
    "\n",
    "\n",
    "#always comes last\n",
    "CMD ls \n",
    "\n",
    "```\n",
    "\n",
    "#### build\n",
    "docker build -t tagname .\n",
    "\n",
    "#### Run\n",
    "\n",
    "*basic command*  \n",
    "docker run image_name \n",
    "\n",
    "*detach container process*  \n",
    "docker run -d image_name\n",
    "\n",
    "*attach to port*  \n",
    "docker run -p 80:5000 image_name\n",
    "\n",
    "*interact with docker container command line*\n",
    "docker run -it image_name\n",
    "\n"
   ]
  }
 ],
 "metadata": {
  "interpreter": {
   "hash": "d396f3607e8b3e6bfc2fdae356169562b28e273c2fda1d30f25e33089c9c8fcf"
  },
  "kernelspec": {
   "display_name": "Python 3.9.9 64-bit ('3.9.9': pyenv)",
   "language": "python",
   "name": "python3"
  },
  "language_info": {
   "codemirror_mode": {
    "name": "ipython",
    "version": 3
   },
   "file_extension": ".py",
   "mimetype": "text/x-python",
   "name": "python",
   "nbconvert_exporter": "python",
   "pygments_lexer": "ipython3",
   "version": "3.9.9"
  },
  "orig_nbformat": 4
 },
 "nbformat": 4,
 "nbformat_minor": 2
}
